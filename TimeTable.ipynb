{
 "nbformat": 4,
 "nbformat_minor": 0,
 "metadata": {
  "colab": {
   "provenance": []
  },
  "kernelspec": {
   "name": "python3",
   "language": "python",
   "display_name": "Python 3 (ipykernel)"
  },
  "language_info": {
   "name": "python"
  }
 },
 "cells": [
  {
   "cell_type": "markdown",
   "source": [
    "# Data related tasks"
   ],
   "metadata": {
    "id": "3hFhZr5L1QTC"
   }
  },
  {
   "cell_type": "markdown",
   "source": [
    "## 1.Import libraries\n"
   ],
   "metadata": {
    "id": "6l8JgtxOaa58"
   }
  },
  {
   "cell_type": "code",
   "execution_count": 3,
   "metadata": {
    "id": "vH-8PraZMday",
    "ExecuteTime": {
     "end_time": "2023-12-27T04:56:55.769799500Z",
     "start_time": "2023-12-27T04:56:55.752837900Z"
    }
   },
   "outputs": [],
   "source": [
    "import pandas as pd\n",
    "import numpy as np\n",
    "import warnings\n",
    "warnings.filterwarnings('ignore') # Ignore warnings"
   ]
  },
  {
   "cell_type": "markdown",
   "source": [
    "## 2.Read excel\n",
    "Naming table columns"
   ],
   "metadata": {
    "id": "4m_QkhxOaO-I"
   }
  },
  {
   "cell_type": "code",
   "source": [
    "cols = [\"Kỳ\", \"Trường_Viện_Khoa\", \"Mã lớp\", \"Mã lớp kèm\", \"Mã HP\", \"Tên HP\", \"Tên HP Tiếng Anh\", \"Khối lượng\", \"Ghi chú\", \"Buổi số\", \"Thứ\", \"Thời gian\", \"Bắt đầu\", \"Kết thúc\", \"Kíp\", \"Tuần\", \"Phòng\", \"Cần thí nghiệm\", \"Số lượng đăng ký\", \"Số lượng max\", \"Trạng thái\", \"Loại lớp\", \"Đợt mở\", \"Mã quản lý\"]\n",
    "df = pd.read_excel(\"./Examples/TKB20231-FULL-1809.xlsx\", index_col=0, names=cols)  # name=cols sets the name of each column the specified name in cols array"
   ],
   "metadata": {
    "id": "85-CNJwVMmtP",
    "ExecuteTime": {
     "end_time": "2023-12-27T04:56:58.395846Z",
     "start_time": "2023-12-27T04:56:55.774496400Z"
    }
   },
   "execution_count": 4,
   "outputs": []
  },
  {
   "cell_type": "markdown",
   "source": [
    "## 3.Data Filtering"
   ],
   "metadata": {
    "id": "3n-Cix5cbYL7"
   }
  },
  {
   "cell_type": "code",
   "source": [
    "# Delete title rows\n",
    "df = df.iloc[2:]\n",
    "# Create index column, start at 1\n",
    "df.reset_index(inplace=True, drop=True)\n",
    "df.index += 1\n",
    "# filter which column to display\n",
    "df1 = df[[\"Mã lớp\", \"Mã lớp kèm\", \"Mã HP\", \"Tên HP\", \"Khối lượng\", \"Buổi số\", \"Thứ\", \"Thời gian\", \"Kíp\", \"Tuần\", \"Phòng\", \"Cần thí nghiệm\", \"Số lượng max\", \"Trạng thái\", \"Loại lớp\", \"Đợt mở\", \"Mã quản lý\"]]\n",
    "# if \"Thí nghiệm\", return 1; else return 0\n",
    "df1[\"Cần thí nghiệm\"] = (df1[\"Cần thí nghiệm\"] == \"TN\").astype(int)\n",
    "\n",
    "df1 = df1[df1[\"Thứ\"].notnull()]\n",
    "# Formating time (0645-0910) to 0645 and 0910\n",
    "start_time = []\n",
    "end_time = []\n",
    "for time in (df1[\"Thời gian\"].to_numpy().tolist()):  # e.g: time = 0645-0910\n",
    "    start_time.append(time[:4])  # start_time = 0645 -> []\n",
    "    end_time.append(time[5:])  # end_time = 0910 -> []\n",
    "df1.insert(loc=7, column=\"Bắt đầu\", value=start_time)  # insert \"Bắt đầu\" column at column index 7\n",
    "df1.insert(loc=8, column=\"Kết thúc\", value=end_time)  # insert \"Kết thúc\" column at column index 8\n",
    "del df1[\"Thời gian\"]  # We don't need \"Thời gian\" anymore, so we can delete it\n",
    "# Group location together\n",
    "df1[\"Phòng\"] = df1[\"Phòng\"].astype(str)\n",
    "group_num = []"
   ],
   "metadata": {
    "id": "NY4WMaZZaL1T",
    "ExecuteTime": {
     "end_time": "2023-12-27T04:56:58.414342400Z",
     "start_time": "2023-12-27T04:56:58.399854900Z"
    }
   },
   "execution_count": 5,
   "outputs": []
  },
  {
   "cell_type": "code",
   "source": [
    "def groupingLocation(df1, room):\n",
    "  \"\"\"\n",
    "  Grouping near locations together to reduce calculations\n",
    "  \"\"\"\n",
    "  if any(substring in room for substring in [\"D3\", \"D5\"] ): return 0\n",
    "  # any(substring in room for substring in [\"D3\", \"D5\"]) e.g: \"D3-5-301\" contains D3, therefore the statement is true, applies to other scenarios\n",
    "  elif any(substring in room for substring in [\"D9\"]): return 1\n",
    "  elif any(substring in room for substring in [\"C3\", \"C4\", \"C5\", \"C6\", \"C7\", \"C8\", \"C10\"]): return 2\n",
    "  elif any(substring in room for substring in [\"C1\", \"C2\", \"C9\"]): return 3\n",
    "  elif any(substring in room for substring in [\"D4\", \"D6\", \"D8\"]): return 4\n",
    "  elif any(substring in room for substring in [\"B1\", \"B3\", \"B4\", \"B6\", \"B7\", \"B8\", \"B9\", \"B10\",\"B13\"]): return 5\n",
    "  elif any(substring in room for substring in [\"TC\"]): return 6\n",
    "  else: return 7  # Some places like \"Sân vận động\" is not included here!!! Possibly have to fix this\n",
    "for room in (df1[\"Phòng\"].to_numpy().tolist()):\n",
    "  # df1[\"Phòng\"] type=(dataFrame) --to_numpy()--> type=(numpy array) --tolist()--> type=(array)\n",
    "  # so df1[\"Phòng\"].to_numpy().tolist() is an array contains rooms of classes\n",
    "  group_num.append(groupingLocation(df1, room))  # e.g: \"D3-5-301\" -> 0 -> []\n",
    "df1.insert(loc=11, column=\"Khu\", value=group_num) # insert \"Khu\" column at column index 11\n",
    "del df1[\"Phòng\"] # We don't need \"Phòng\" anymore, so we can delete it"
   ],
   "metadata": {
    "id": "XKiXmiDT21ky",
    "ExecuteTime": {
     "end_time": "2023-12-27T04:56:58.451639900Z",
     "start_time": "2023-12-27T04:56:58.418810700Z"
    }
   },
   "execution_count": 6,
   "outputs": []
  },
  {
   "cell_type": "code",
   "source": [
    "df1.head()"
   ],
   "metadata": {
    "colab": {
     "base_uri": "https://localhost:8080/",
     "height": 310
    },
    "id": "H5H-qL-w3O4x",
    "outputId": "201b2e10-8b63-4b62-8519-f341e00829e2",
    "ExecuteTime": {
     "end_time": "2023-12-27T04:56:58.472564300Z",
     "start_time": "2023-12-27T04:56:58.449642Z"
    }
   },
   "execution_count": 7,
   "outputs": [
    {
     "data": {
      "text/plain": "   Mã lớp Mã lớp kèm   Mã HP                          Tên HP  Khối lượng  \\\n1  146189     146189  AC2010              Kỹ thuật lập trình  2(2-1-0-4)   \n2  146192     146192  AC2020         Đồ họa hình động 2D, 3D  3(3-1-0-6)   \n3  146193     146193  AC2040                   Cơ sở dữ liệu  2(2-1-0-4)   \n4  146194     146194  AC2050  Cấu trúc dữ liệu và giải thuật  2(2-1-0-4)   \n5  146197     146197  AC3010  Phân tích và thiết kế hệ thống  2(2-1-0-4)   \n\n  Buổi số Thứ Bắt đầu Kết thúc    Kíp        Tuần  Khu  Cần thí nghiệm  \\\n1       1   2    0920     1145   Sáng  3-10,12-19    0               0   \n2       1   4    0645     1005   Sáng  3-10,12-19    0               0   \n3       1   3    0920     1145   Sáng  3-10,12-19    0               0   \n4       1   3    0645     0910   Sáng  3-10,12-19    0               0   \n5       1   3    1505     1730  Chiều  3-10,12-19    0               0   \n\n  Số lượng max     Trạng thái Loại lớp Đợt mở Mã quản lý  \n1           70  Điều chỉnh ĐK    LT+BT     AB   CT CHUẨN  \n2           70  Điều chỉnh ĐK    LT+BT     AB   CT CHUẨN  \n3           70  Điều chỉnh ĐK    LT+BT     AB   CT CHUẨN  \n4           70  Điều chỉnh ĐK    LT+BT     AB   CT CHUẨN  \n5           70  Điều chỉnh ĐK    LT+BT     AB   CT CHUẨN  ",
      "text/html": "<div>\n<style scoped>\n    .dataframe tbody tr th:only-of-type {\n        vertical-align: middle;\n    }\n\n    .dataframe tbody tr th {\n        vertical-align: top;\n    }\n\n    .dataframe thead th {\n        text-align: right;\n    }\n</style>\n<table border=\"1\" class=\"dataframe\">\n  <thead>\n    <tr style=\"text-align: right;\">\n      <th></th>\n      <th>Mã lớp</th>\n      <th>Mã lớp kèm</th>\n      <th>Mã HP</th>\n      <th>Tên HP</th>\n      <th>Khối lượng</th>\n      <th>Buổi số</th>\n      <th>Thứ</th>\n      <th>Bắt đầu</th>\n      <th>Kết thúc</th>\n      <th>Kíp</th>\n      <th>Tuần</th>\n      <th>Khu</th>\n      <th>Cần thí nghiệm</th>\n      <th>Số lượng max</th>\n      <th>Trạng thái</th>\n      <th>Loại lớp</th>\n      <th>Đợt mở</th>\n      <th>Mã quản lý</th>\n    </tr>\n  </thead>\n  <tbody>\n    <tr>\n      <th>1</th>\n      <td>146189</td>\n      <td>146189</td>\n      <td>AC2010</td>\n      <td>Kỹ thuật lập trình</td>\n      <td>2(2-1-0-4)</td>\n      <td>1</td>\n      <td>2</td>\n      <td>0920</td>\n      <td>1145</td>\n      <td>Sáng</td>\n      <td>3-10,12-19</td>\n      <td>0</td>\n      <td>0</td>\n      <td>70</td>\n      <td>Điều chỉnh ĐK</td>\n      <td>LT+BT</td>\n      <td>AB</td>\n      <td>CT CHUẨN</td>\n    </tr>\n    <tr>\n      <th>2</th>\n      <td>146192</td>\n      <td>146192</td>\n      <td>AC2020</td>\n      <td>Đồ họa hình động 2D, 3D</td>\n      <td>3(3-1-0-6)</td>\n      <td>1</td>\n      <td>4</td>\n      <td>0645</td>\n      <td>1005</td>\n      <td>Sáng</td>\n      <td>3-10,12-19</td>\n      <td>0</td>\n      <td>0</td>\n      <td>70</td>\n      <td>Điều chỉnh ĐK</td>\n      <td>LT+BT</td>\n      <td>AB</td>\n      <td>CT CHUẨN</td>\n    </tr>\n    <tr>\n      <th>3</th>\n      <td>146193</td>\n      <td>146193</td>\n      <td>AC2040</td>\n      <td>Cơ sở dữ liệu</td>\n      <td>2(2-1-0-4)</td>\n      <td>1</td>\n      <td>3</td>\n      <td>0920</td>\n      <td>1145</td>\n      <td>Sáng</td>\n      <td>3-10,12-19</td>\n      <td>0</td>\n      <td>0</td>\n      <td>70</td>\n      <td>Điều chỉnh ĐK</td>\n      <td>LT+BT</td>\n      <td>AB</td>\n      <td>CT CHUẨN</td>\n    </tr>\n    <tr>\n      <th>4</th>\n      <td>146194</td>\n      <td>146194</td>\n      <td>AC2050</td>\n      <td>Cấu trúc dữ liệu và giải thuật</td>\n      <td>2(2-1-0-4)</td>\n      <td>1</td>\n      <td>3</td>\n      <td>0645</td>\n      <td>0910</td>\n      <td>Sáng</td>\n      <td>3-10,12-19</td>\n      <td>0</td>\n      <td>0</td>\n      <td>70</td>\n      <td>Điều chỉnh ĐK</td>\n      <td>LT+BT</td>\n      <td>AB</td>\n      <td>CT CHUẨN</td>\n    </tr>\n    <tr>\n      <th>5</th>\n      <td>146197</td>\n      <td>146197</td>\n      <td>AC3010</td>\n      <td>Phân tích và thiết kế hệ thống</td>\n      <td>2(2-1-0-4)</td>\n      <td>1</td>\n      <td>3</td>\n      <td>1505</td>\n      <td>1730</td>\n      <td>Chiều</td>\n      <td>3-10,12-19</td>\n      <td>0</td>\n      <td>0</td>\n      <td>70</td>\n      <td>Điều chỉnh ĐK</td>\n      <td>LT+BT</td>\n      <td>AB</td>\n      <td>CT CHUẨN</td>\n    </tr>\n  </tbody>\n</table>\n</div>"
     },
     "execution_count": 7,
     "metadata": {},
     "output_type": "execute_result"
    }
   ]
  },
  {
   "cell_type": "markdown",
   "source": [
    "## 4.Distance Matrix\n",
    "Used to evaluate the distance between two locations, e.g: `D3` to `TC` is `10`, which is far, students may have to run to get to their next class. While `D3` to `D9` is quite close, the best solution is next class is in the same tower as the previous class (`D3` to `D3` is `0`)"
   ],
   "metadata": {
    "id": "-DGYjDAUx8Gg"
   }
  },
  {
   "cell_type": "code",
   "source": [
    "# Distance matrix\n",
    "Dist = np.array([[0, 5, 5, 10, 10, 5, 10],  # D3, D5, D3-5 [code 0]\n",
    "                 [5, 0, 5, 10, 5, 10, 10],  # Library, D9, lake [code 1]\n",
    "                 [5, 5, 0, 10, 10, 10, 10],  # C6, C7, C8, C3, C4, C5, C10 [code 2]\n",
    "                 [10, 10, 10, 0, 5, 10, 10],  # C1, C2, C9 [code 3]\n",
    "                 [10, 5, 10, 5, 0, 10, 10],  # D4, D6, D8 [code 4]\n",
    "                 [5, 10, 10, 10, 10, 0, 5],  # KTX, B1 [code 5]\n",
    "                 [10, 10, 10, 10, 10, 5, 0]  # TC =))) [code 6]\n",
    "                ])\n",
    "\n",
    "# TODO Some of the places are not on the map such as \"Sân vận động\", etc so i have grouped them in code 7. Need to fix this ASAP"
   ],
   "metadata": {
    "id": "ePlKCwFdXCtQ",
    "ExecuteTime": {
     "end_time": "2023-12-27T04:56:58.472564300Z",
     "start_time": "2023-12-27T04:56:58.468827200Z"
    }
   },
   "execution_count": 8,
   "outputs": []
  },
  {
   "cell_type": "markdown",
   "source": [
    "# Algorithms"
   ],
   "metadata": {
    "id": "hM9aGn7WJ6Q9"
   }
  },
  {
   "cell_type": "markdown",
   "source": [
    "## 1.Inputing subjects\n",
    "Users input subjects. It adds into python dictionary `maHPs` which includes subjects name ID as keys e.g: `IT3011` and possible classes ID as values e.g: `143608`, `144020` and etc (check output for more information)  "
   ],
   "metadata": {
    "id": "X3dozczd5wj_"
   }
  },
  {
   "cell_type": "code",
   "source": [
    "# Dictionary of chosen classIDs\n",
    "maHPs = {}\n",
    "maHP = \"\"\n",
    "print(\"Hãy nhập vào mã học phần của môn học bạn định đăng ký: \")\n",
    "while maHP != \"*\":\n",
    "    maHP = input()\n",
    "    if maHP not in df1[\"Mã HP\"].to_numpy().tolist():\n",
    "      continue\n",
    "    if maHP not in maHPs:\n",
    "        dfx = df1[df1[\"Mã HP\"] == maHP]\n",
    "        dfx = dfx[dfx[\"Loại lớp\"].isin([\"BT\", \"LT+BT\"])]\n",
    "        filtered_classes_ID = dfx[\"Mã lớp\"].to_numpy().tolist()\n",
    "        maHPs[maHP] = filtered_classes_ID\n",
    "print(maHPs)\n",
    "# Output will only have \"BT\" or \"LT+BT\" labeled classes\n",
    "# Enter \"*\" to stop"
   ],
   "metadata": {
    "colab": {
     "base_uri": "https://localhost:8080/"
    },
    "id": "JMyz7xkbJ12v",
    "outputId": "ece4685e-9c0e-4ffc-fc68-b9dd72848e96",
    "ExecuteTime": {
     "end_time": "2023-12-27T04:57:19.960338600Z",
     "start_time": "2023-12-27T04:56:58.473563900Z"
    }
   },
   "execution_count": 9,
   "outputs": [
    {
     "name": "stdout",
     "output_type": "stream",
     "text": [
      "Hãy nhập vào mã học phần của môn học bạn định đăng ký: \n",
      "{'IT3011': ['143608', '143609', '143610', '144020', '144876', '144877', '144903', '144904', '145695', '145696'], 'MI2020': ['143851', '143852', '144229', '144865', '144866', '144868', '144869', '144890', '144891', '144893', '144894', '145250', '145251', '145256', '145257', '145270', '145271', '145273', '145274', '145285', '145286', '145288', '145289', '145303', '145304', '145483', '145484', '145486', '145487', '145489', '145490'], 'PH1120': ['143846', '143847', '143848', '143849', '144859', '144860', '144862', '144863', '144881', '144882', '144884', '144885', '144887', '144888', '144969', '144970', '144972', '144973', '144975', '144976', '145172', '145173', '145247', '145248', '145253', '145254', '145276', '145277', '145279', '145280', '145291', '145292', '145294', '145295', '145300', '145301', '145640', '145641', '145643', '145644', '145646', '145647', '145666', '145667', '145669', '145670', '146141', '146142', '146144', '146145', '146354', '146355', '146546', '146547', '146554', '146555']}\n"
     ]
    }
   ]
  },
  {
   "cell_type": "markdown",
   "source": [
    "## 2.Generating initial solution\n",
    "This will create a possible solution for the problem, but not optimized.\n",
    "It uses backtracking algorithm to solve. Why not use it to find the optimized solution ? Well, it will have to be looping for a much longer time than the genetic algorithm"
   ],
   "metadata": {
    "id": "T-Lpq2dG6t8O"
   }
  },
  {
   "cell_type": "code",
   "source": [
    "calendar = np.zeros((9,3000)) # it include 7 days from 2-8 and 24 hours from 0000 to 2400. May need to add weeks (19 weeks = 20 layers)\n",
    "initial_solution = []\n",
    "\n",
    "def check(class_id, calendar):  # Must turn calendar to previous state after backtracking, maybe creating a temp variable will help\n",
    "    \"\"\"\n",
    "    Checking if the calendar is empty, if empty at the specific classes time -> true, else -> false\n",
    "    \"\"\"\n",
    "    flag = 0\n",
    "    row = df1[\"Mã lớp\"] == str(class_id)\n",
    "    date = int(df1.loc[row,\"Thứ\"])  # Still having errors converting series to int (try >= 6 subjects)\n",
    "    start = int(df1.loc[row,\"Bắt đầu\"])\n",
    "    end = int(df1.loc[row,\"Kết thúc\"])\n",
    "    for i in range(start, end+1):  # e.g: study from 0645-0910 -> loop from 645 to 910 and swith them to 1 if empty\n",
    "        if calendar[date][i] == 0:\n",
    "            calendar[date][i] = 1\n",
    "            flag += 1\n",
    "    if flag < end-start+1: return False # returns 910-645+1 = 266 if flag == this => It is safe to fill this subject in\n",
    "    return True\n",
    "\n",
    "def Try(k, tmplist):\n",
    "    # Backtracking algorithm.\n",
    "    # Need to fix them to distribute throughout the week, this only solves for first few weekdays\n",
    "    # Also, add \"LT\" classes\n",
    "    \"\"\"\n",
    "    Backtracks until the first solution is found\n",
    "    \"\"\"\n",
    "    global initial_solution\n",
    "    if k == len(maHPs):\n",
    "        initial_solution = tmplist.copy()\n",
    "        return\n",
    "    key = list(maHPs.keys())[k]\n",
    "    for maHP_loop in maHPs[key]:\n",
    "        if check(maHP_loop, calendar):\n",
    "            tmplist.append(maHP_loop)\n",
    "            Try(k+1, tmplist)\n",
    "            if initial_solution:\n",
    "                return\n",
    "            tmplist.pop()\n",
    "# Output!!!\n",
    "Try(0, [])\n",
    "print(\"Initial Solution:\", initial_solution)"
   ],
   "metadata": {
    "colab": {
     "base_uri": "https://localhost:8080/"
    },
    "id": "U25uyQx41mSe",
    "outputId": "e64481f1-90f6-4034-8983-947f07d761c2",
    "ExecuteTime": {
     "end_time": "2023-12-27T04:57:19.963009800Z",
     "start_time": "2023-12-27T04:57:19.952349400Z"
    }
   },
   "execution_count": 10,
   "outputs": [
    {
     "name": "stdout",
     "output_type": "stream",
     "text": [
      "Initial Solution: ['143608', '143851', '143846']\n"
     ]
    }
   ]
  },
  {
   "cell_type": "markdown",
   "source": [
    "## 3.Genetic algorithm"
   ],
   "metadata": {
    "id": "IAEyttcu_ug_"
   }
  }
 ]
}
